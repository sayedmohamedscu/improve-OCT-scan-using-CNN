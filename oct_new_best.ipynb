{
  "nbformat": 4,
  "nbformat_minor": 0,
  "metadata": {
    "colab": {
      "name": "oct new best.ipynb",
      "version": "0.3.2",
      "provenance": [],
      "include_colab_link": true
    },
    "kernelspec": {
      "name": "python3",
      "display_name": "Python 3"
    },
    "accelerator": "GPU"
  },
  "cells": [
    {
      "cell_type": "markdown",
      "metadata": {
        "id": "view-in-github",
        "colab_type": "text"
      },
      "source": [
        "<a href=\"https://colab.research.google.com/github/sayedmohamedscu/improve-OCT-scan-using-CNN/blob/master/oct_new_best.ipynb\" target=\"_parent\"><img src=\"https://colab.research.google.com/assets/colab-badge.svg\" alt=\"Open In Colab\"/></a>"
      ]
    },
    {
      "cell_type": "code",
      "metadata": {
        "id": "kJsfurAR5T_v",
        "colab_type": "code",
        "colab": {}
      },
      "source": [
        "!mkdir .kaggle\n",
        "!mkdir .s\n",
        "#os.chdir(\"/content/gdrive/My Drive/\")"
      ],
      "execution_count": 0,
      "outputs": []
    },
    {
      "cell_type": "code",
      "metadata": {
        "id": "-J2iw_1NOCwb",
        "colab_type": "code",
        "outputId": "6a48ddf9-9d56-4d7c-f096-d71fa1580fe4",
        "colab": {
          "base_uri": "https://localhost:8080/",
          "height": 51
        }
      },
      "source": [
        "import json\n",
        "token = {\"username\":\"tesla2\",\"key\":\"2e88d384a9e1fa7950bfae00ad07e151\"} #use your own you will find repo i explain how to connect kaggle to colab\n",
        "with open(\"/content/.s/kaggle.json\", \"w\") as file:\n",
        "    json.dump(token, file)\n",
        "!ls"
      ],
      "execution_count": 0,
      "outputs": [
        {
          "output_type": "stream",
          "text": [
            "87.oct-in-cnv.01.intro.fig.2.jpg  gdrive\t\t     sample_data\n",
            "Findings-Classic-CNV-C.jpg\t  RP_November_A08_Fig02.jpg\n"
          ],
          "name": "stdout"
        }
      ]
    },
    {
      "cell_type": "code",
      "metadata": {
        "id": "pExhrjjTOC4y",
        "colab_type": "code",
        "colab": {}
      },
      "source": [
        "!chmod 600 /content/.s/kaggle.json"
      ],
      "execution_count": 0,
      "outputs": []
    },
    {
      "cell_type": "code",
      "metadata": {
        "id": "hNz_Cb6_OC-T",
        "colab_type": "code",
        "colab": {}
      },
      "source": [
        "!cp /content/.s/kaggle.json ~/.kaggle/kaggle.json"
      ],
      "execution_count": 0,
      "outputs": []
    },
    {
      "cell_type": "code",
      "metadata": {
        "id": "Gx9JEuOdODNa",
        "colab_type": "code",
        "outputId": "5ccc32aa-6700-44a2-cf6c-4311695dbcf3",
        "colab": {
          "base_uri": "https://localhost:8080/",
          "height": 34
        }
      },
      "source": [
        "!kaggle config set -n path -v{/content}"
      ],
      "execution_count": 0,
      "outputs": [
        {
          "output_type": "stream",
          "text": [
            "- path is now set to: {/content}\n"
          ],
          "name": "stdout"
        }
      ]
    },
    {
      "cell_type": "code",
      "metadata": {
        "id": "FqUaJNbZQLIx",
        "colab_type": "code",
        "outputId": "fa3e4598-f52f-4f17-c219-934f716963a9",
        "colab": {
          "base_uri": "https://localhost:8080/",
          "height": 68
        }
      },
      "source": [
        "!kaggle datasets download -d paultimothymooney/kermany2018 -p /content "
      ],
      "execution_count": 0,
      "outputs": [
        {
          "output_type": "stream",
          "text": [
            "Downloading kermany2018.zip to /content\n",
            "100% 5.41G/5.42G [00:56<00:00, 79.6MB/s]\n",
            "100% 5.42G/5.42G [00:56<00:00, 104MB/s] \n"
          ],
          "name": "stdout"
        }
      ]
    },
    {
      "cell_type": "code",
      "metadata": {
        "id": "X55F1r9xTKN8",
        "colab_type": "code",
        "colab": {}
      },
      "source": [
        "!unzip -qq /content/kermany2018.zip"
      ],
      "execution_count": 0,
      "outputs": []
    },
    {
      "cell_type": "code",
      "metadata": {
        "id": "KVd2mgn_TYlc",
        "colab_type": "code",
        "outputId": "8f13f759-dc3c-466a-8216-05626c2b1565",
        "colab": {
          "base_uri": "https://localhost:8080/",
          "height": 119
        }
      },
      "source": [
        "!unzip -qq /content/OCT2017.zip"
      ],
      "execution_count": 0,
      "outputs": [
        {
          "output_type": "stream",
          "text": [
            "warning [/content/OCT2017.zip]:  4294967296 extra bytes at beginning or within zipfile\n",
            "  (attempting to process anyway)\n",
            "file #1:  bad zipfile offset (local header sig):  4294967296\n",
            "  (attempting to re-compensate)\n",
            "file #122249:  bad zipfile offset (local header sig):  51410\n",
            "  (attempting to re-compensate)\n"
          ],
          "name": "stdout"
        }
      ]
    },
    {
      "cell_type": "code",
      "metadata": {
        "id": "CD-GQVtnTmc8",
        "colab_type": "code",
        "colab": {}
      },
      "source": [
        "import os\n",
        "import numpy as np\n",
        "from keras.preprocessing.image import ImageDataGenerator\n",
        "\n",
        "\n",
        "\n",
        "train_datagen = ImageDataGenerator(\n",
        "      rescale=1./255)\n",
        "\n",
        "# Note that the validation data should not be augmented!\n",
        "test_datagen = ImageDataGenerator(rescale=1./255)\n",
        "\n",
        "train_generator = train_datagen.flow_from_directory(\n",
        "        # This is the target directory\n",
        "        '/content/OCT2017 /train',\n",
        "        # All images will be resized to 240*240\n",
        "        target_size=(224, 224),\n",
        "        batch_size=100,\n",
        "        shuffle=True,\n",
        "        class_mode='categorical')\n",
        "\n",
        "validation_generator = test_datagen.flow_from_directory(\n",
        "    '/content/OCT2017 /test',\n",
        "        \n",
        "        target_size=(224, 224),\n",
        "        batch_size=50,\n",
        "        shuffle=True,\n",
        "        class_mode='categorical')"
      ],
      "execution_count": 0,
      "outputs": []
    },
    {
      "cell_type": "code",
      "metadata": {
        "id": "fuglT2pfVbTj",
        "colab_type": "code",
        "colab": {}
      },
      "source": [
        "import keras\n",
        "from keras import models\n",
        "from keras import layers\n",
        "\n",
        "from keras.layers import Dense,GlobalAveragePooling2D,Flatten,Dropout,BatchNormalization\n",
        "from keras.layers import Conv2D, MaxPooling2D\n",
        "\n",
        "\n"
      ],
      "execution_count": 0,
      "outputs": []
    },
    {
      "cell_type": "code",
      "metadata": {
        "id": "vr6PRhrsVW2q",
        "colab_type": "code",
        "outputId": "57baf80f-bb02-4a6b-8449-f2e4d324f2c3",
        "colab": {
          "base_uri": "https://localhost:8080/",
          "height": 887
        }
      },
      "source": [
        "from keras.applications import VGG16\n",
        "from keras.applications import MobileNet\n",
        "from keras.applications.inception_v3 import InceptionV3\n",
        "\n",
        "\n",
        "base_model = VGG16(weights='imagenet',\n",
        "                  include_top=False,\n",
        "                  input_shape=(224, 224, 3))\n",
        "base_model.summary()"
      ],
      "execution_count": 0,
      "outputs": [
        {
          "output_type": "stream",
          "text": [
            "WARNING:tensorflow:From /usr/local/lib/python3.6/dist-packages/tensorflow/python/framework/op_def_library.py:263: colocate_with (from tensorflow.python.framework.ops) is deprecated and will be removed in a future version.\n",
            "Instructions for updating:\n",
            "Colocations handled automatically by placer.\n",
            "Downloading data from https://github.com/fchollet/deep-learning-models/releases/download/v0.1/vgg16_weights_tf_dim_ordering_tf_kernels_notop.h5\n",
            "58892288/58889256 [==============================] - 1s 0us/step\n",
            "_________________________________________________________________\n",
            "Layer (type)                 Output Shape              Param #   \n",
            "=================================================================\n",
            "input_1 (InputLayer)         (None, 224, 224, 3)       0         \n",
            "_________________________________________________________________\n",
            "block1_conv1 (Conv2D)        (None, 224, 224, 64)      1792      \n",
            "_________________________________________________________________\n",
            "block1_conv2 (Conv2D)        (None, 224, 224, 64)      36928     \n",
            "_________________________________________________________________\n",
            "block1_pool (MaxPooling2D)   (None, 112, 112, 64)      0         \n",
            "_________________________________________________________________\n",
            "block2_conv1 (Conv2D)        (None, 112, 112, 128)     73856     \n",
            "_________________________________________________________________\n",
            "block2_conv2 (Conv2D)        (None, 112, 112, 128)     147584    \n",
            "_________________________________________________________________\n",
            "block2_pool (MaxPooling2D)   (None, 56, 56, 128)       0         \n",
            "_________________________________________________________________\n",
            "block3_conv1 (Conv2D)        (None, 56, 56, 256)       295168    \n",
            "_________________________________________________________________\n",
            "block3_conv2 (Conv2D)        (None, 56, 56, 256)       590080    \n",
            "_________________________________________________________________\n",
            "block3_conv3 (Conv2D)        (None, 56, 56, 256)       590080    \n",
            "_________________________________________________________________\n",
            "block3_pool (MaxPooling2D)   (None, 28, 28, 256)       0         \n",
            "_________________________________________________________________\n",
            "block4_conv1 (Conv2D)        (None, 28, 28, 512)       1180160   \n",
            "_________________________________________________________________\n",
            "block4_conv2 (Conv2D)        (None, 28, 28, 512)       2359808   \n",
            "_________________________________________________________________\n",
            "block4_conv3 (Conv2D)        (None, 28, 28, 512)       2359808   \n",
            "_________________________________________________________________\n",
            "block4_pool (MaxPooling2D)   (None, 14, 14, 512)       0         \n",
            "_________________________________________________________________\n",
            "block5_conv1 (Conv2D)        (None, 14, 14, 512)       2359808   \n",
            "_________________________________________________________________\n",
            "block5_conv2 (Conv2D)        (None, 14, 14, 512)       2359808   \n",
            "_________________________________________________________________\n",
            "block5_conv3 (Conv2D)        (None, 14, 14, 512)       2359808   \n",
            "_________________________________________________________________\n",
            "block5_pool (MaxPooling2D)   (None, 7, 7, 512)         0         \n",
            "=================================================================\n",
            "Total params: 14,714,688\n",
            "Trainable params: 14,714,688\n",
            "Non-trainable params: 0\n",
            "_________________________________________________________________\n"
          ],
          "name": "stdout"
        }
      ]
    },
    {
      "cell_type": "code",
      "metadata": {
        "id": "UNla1iojVtHL",
        "colab_type": "code",
        "outputId": "60e4a596-5323-4ec6-c949-96df7cfde558",
        "colab": {
          "base_uri": "https://localhost:8080/",
          "height": 1057
        }
      },
      "source": [
        "x=base_model.output\n",
        "from keras.models import Model\n",
        "x = Conv2D(512, kernel_size = (3,3), padding = 'valid')(x)\n",
        "x=MaxPooling2D(pool_size=(2, 2))(x)\n",
        "#x = keras.layers.GlobalAveragePooling2D()(x)\n",
        "x = Flatten()(x)\n",
        "x=Dropout(0.2)(x)\n",
        "\n",
        "\n",
        "x = Dense(50, activation='relu')(x)\n",
        "\n",
        "x = Dense(4 , activation='sigmoid')(x)\n",
        "model=Model(inputs=base_model.input,outputs=x)\n",
        "model.summary()\n"
      ],
      "execution_count": 0,
      "outputs": [
        {
          "output_type": "stream",
          "text": [
            "WARNING:tensorflow:From /usr/local/lib/python3.6/dist-packages/keras/backend/tensorflow_backend.py:3445: calling dropout (from tensorflow.python.ops.nn_ops) with keep_prob is deprecated and will be removed in a future version.\n",
            "Instructions for updating:\n",
            "Please use `rate` instead of `keep_prob`. Rate should be set to `rate = 1 - keep_prob`.\n",
            "_________________________________________________________________\n",
            "Layer (type)                 Output Shape              Param #   \n",
            "=================================================================\n",
            "input_1 (InputLayer)         (None, 224, 224, 3)       0         \n",
            "_________________________________________________________________\n",
            "block1_conv1 (Conv2D)        (None, 224, 224, 64)      1792      \n",
            "_________________________________________________________________\n",
            "block1_conv2 (Conv2D)        (None, 224, 224, 64)      36928     \n",
            "_________________________________________________________________\n",
            "block1_pool (MaxPooling2D)   (None, 112, 112, 64)      0         \n",
            "_________________________________________________________________\n",
            "block2_conv1 (Conv2D)        (None, 112, 112, 128)     73856     \n",
            "_________________________________________________________________\n",
            "block2_conv2 (Conv2D)        (None, 112, 112, 128)     147584    \n",
            "_________________________________________________________________\n",
            "block2_pool (MaxPooling2D)   (None, 56, 56, 128)       0         \n",
            "_________________________________________________________________\n",
            "block3_conv1 (Conv2D)        (None, 56, 56, 256)       295168    \n",
            "_________________________________________________________________\n",
            "block3_conv2 (Conv2D)        (None, 56, 56, 256)       590080    \n",
            "_________________________________________________________________\n",
            "block3_conv3 (Conv2D)        (None, 56, 56, 256)       590080    \n",
            "_________________________________________________________________\n",
            "block3_pool (MaxPooling2D)   (None, 28, 28, 256)       0         \n",
            "_________________________________________________________________\n",
            "block4_conv1 (Conv2D)        (None, 28, 28, 512)       1180160   \n",
            "_________________________________________________________________\n",
            "block4_conv2 (Conv2D)        (None, 28, 28, 512)       2359808   \n",
            "_________________________________________________________________\n",
            "block4_conv3 (Conv2D)        (None, 28, 28, 512)       2359808   \n",
            "_________________________________________________________________\n",
            "block4_pool (MaxPooling2D)   (None, 14, 14, 512)       0         \n",
            "_________________________________________________________________\n",
            "block5_conv1 (Conv2D)        (None, 14, 14, 512)       2359808   \n",
            "_________________________________________________________________\n",
            "block5_conv2 (Conv2D)        (None, 14, 14, 512)       2359808   \n",
            "_________________________________________________________________\n",
            "block5_conv3 (Conv2D)        (None, 14, 14, 512)       2359808   \n",
            "_________________________________________________________________\n",
            "block5_pool (MaxPooling2D)   (None, 7, 7, 512)         0         \n",
            "_________________________________________________________________\n",
            "conv2d_1 (Conv2D)            (None, 5, 5, 512)         2359808   \n",
            "_________________________________________________________________\n",
            "max_pooling2d_1 (MaxPooling2 (None, 2, 2, 512)         0         \n",
            "_________________________________________________________________\n",
            "flatten_1 (Flatten)          (None, 2048)              0         \n",
            "_________________________________________________________________\n",
            "dropout_1 (Dropout)          (None, 2048)              0         \n",
            "_________________________________________________________________\n",
            "dense_1 (Dense)              (None, 50)                102450    \n",
            "_________________________________________________________________\n",
            "dense_2 (Dense)              (None, 4)                 204       \n",
            "=================================================================\n",
            "Total params: 17,177,150\n",
            "Trainable params: 17,177,150\n",
            "Non-trainable params: 0\n",
            "_________________________________________________________________\n"
          ],
          "name": "stdout"
        }
      ]
    },
    {
      "cell_type": "code",
      "metadata": {
        "id": "s7pbAUuSWezq",
        "colab_type": "code",
        "colab": {}
      },
      "source": [
        "model.trainable = True\n",
        "\n",
        "set_trainable = False\n",
        "for layer in model.layers:\n",
        "    if layer.name == 'conv2d_1':\n",
        "        set_trainable = True\n",
        "    if set_trainable:\n",
        "        layer.trainable = True\n",
        "    else:\n",
        "        layer.trainable = False"
      ],
      "execution_count": 0,
      "outputs": []
    },
    {
      "cell_type": "code",
      "metadata": {
        "id": "TH9SzJmAWsDB",
        "colab_type": "code",
        "outputId": "ed573d8a-56c5-49b7-cfd9-c0f2a2a8fd1a",
        "colab": {
          "base_uri": "https://localhost:8080/",
          "height": 986
        }
      },
      "source": [
        "model.summary()\n"
      ],
      "execution_count": 0,
      "outputs": [
        {
          "output_type": "stream",
          "text": [
            "_________________________________________________________________\n",
            "Layer (type)                 Output Shape              Param #   \n",
            "=================================================================\n",
            "input_1 (InputLayer)         (None, 224, 224, 3)       0         \n",
            "_________________________________________________________________\n",
            "block1_conv1 (Conv2D)        (None, 224, 224, 64)      1792      \n",
            "_________________________________________________________________\n",
            "block1_conv2 (Conv2D)        (None, 224, 224, 64)      36928     \n",
            "_________________________________________________________________\n",
            "block1_pool (MaxPooling2D)   (None, 112, 112, 64)      0         \n",
            "_________________________________________________________________\n",
            "block2_conv1 (Conv2D)        (None, 112, 112, 128)     73856     \n",
            "_________________________________________________________________\n",
            "block2_conv2 (Conv2D)        (None, 112, 112, 128)     147584    \n",
            "_________________________________________________________________\n",
            "block2_pool (MaxPooling2D)   (None, 56, 56, 128)       0         \n",
            "_________________________________________________________________\n",
            "block3_conv1 (Conv2D)        (None, 56, 56, 256)       295168    \n",
            "_________________________________________________________________\n",
            "block3_conv2 (Conv2D)        (None, 56, 56, 256)       590080    \n",
            "_________________________________________________________________\n",
            "block3_conv3 (Conv2D)        (None, 56, 56, 256)       590080    \n",
            "_________________________________________________________________\n",
            "block3_pool (MaxPooling2D)   (None, 28, 28, 256)       0         \n",
            "_________________________________________________________________\n",
            "block4_conv1 (Conv2D)        (None, 28, 28, 512)       1180160   \n",
            "_________________________________________________________________\n",
            "block4_conv2 (Conv2D)        (None, 28, 28, 512)       2359808   \n",
            "_________________________________________________________________\n",
            "block4_conv3 (Conv2D)        (None, 28, 28, 512)       2359808   \n",
            "_________________________________________________________________\n",
            "block4_pool (MaxPooling2D)   (None, 14, 14, 512)       0         \n",
            "_________________________________________________________________\n",
            "block5_conv1 (Conv2D)        (None, 14, 14, 512)       2359808   \n",
            "_________________________________________________________________\n",
            "block5_conv2 (Conv2D)        (None, 14, 14, 512)       2359808   \n",
            "_________________________________________________________________\n",
            "block5_conv3 (Conv2D)        (None, 14, 14, 512)       2359808   \n",
            "_________________________________________________________________\n",
            "block5_pool (MaxPooling2D)   (None, 7, 7, 512)         0         \n",
            "_________________________________________________________________\n",
            "conv2d_1 (Conv2D)            (None, 5, 5, 512)         2359808   \n",
            "_________________________________________________________________\n",
            "max_pooling2d_1 (MaxPooling2 (None, 2, 2, 512)         0         \n",
            "_________________________________________________________________\n",
            "flatten_1 (Flatten)          (None, 2048)              0         \n",
            "_________________________________________________________________\n",
            "dropout_1 (Dropout)          (None, 2048)              0         \n",
            "_________________________________________________________________\n",
            "dense_1 (Dense)              (None, 50)                102450    \n",
            "_________________________________________________________________\n",
            "dense_2 (Dense)              (None, 4)                 204       \n",
            "=================================================================\n",
            "Total params: 17,177,150\n",
            "Trainable params: 2,462,462\n",
            "Non-trainable params: 14,714,688\n",
            "_________________________________________________________________\n"
          ],
          "name": "stdout"
        }
      ]
    },
    {
      "cell_type": "code",
      "metadata": {
        "id": "8j3TXb55W1Fq",
        "colab_type": "code",
        "colab": {}
      },
      "source": [
        "from keras import models\n",
        "from keras import layers\n",
        "from keras import optimizers\n",
        "import keras\n",
        "\n",
        "from keras import backend as K\n"
      ],
      "execution_count": 0,
      "outputs": []
    },
    {
      "cell_type": "code",
      "metadata": {
        "id": "aBqVx_-ZqBwO",
        "colab_type": "code",
        "outputId": "cc694da2-172f-412d-8aa6-58f7b7d071ec",
        "colab": {
          "base_uri": "https://localhost:8080/",
          "height": 54
        }
      },
      "source": [
        "import os\n",
        "\n",
        "os.getcwd()\n",
        "from google.colab import drive\n",
        "drive.mount('/content/gdrive')"
      ],
      "execution_count": 0,
      "outputs": [
        {
          "output_type": "stream",
          "text": [
            "Drive already mounted at /content/gdrive; to attempt to forcibly remount, call drive.mount(\"/content/gdrive\", force_remount=True).\n"
          ],
          "name": "stdout"
        }
      ]
    },
    {
      "cell_type": "code",
      "metadata": {
        "id": "YkN-MrDAqFtW",
        "colab_type": "code",
        "colab": {}
      },
      "source": [
        "import os\n",
        "os.chdir(\"/content/gdrive/My Drive/\")\n",
        "!ls"
      ],
      "execution_count": 0,
      "outputs": []
    },
    {
      "cell_type": "code",
      "metadata": {
        "id": "TaemMAc4XFhi",
        "colab_type": "code",
        "colab": {}
      },
      "source": [
        "model.compile(loss='categorical_crossentropy',\n",
        "              optimizer=optimizers.RMSprop(lr=0.0005),\n",
        "              metrics=['acc'])\n",
        "\n"
      ],
      "execution_count": 0,
      "outputs": []
    },
    {
      "cell_type": "code",
      "metadata": {
        "id": "bcEwQDS-J3Bn",
        "colab_type": "code",
        "outputId": "e19796a7-3da4-41d8-edcb-ec16d0da993d",
        "colab": {
          "base_uri": "https://localhost:8080/",
          "height": 598
        }
      },
      "source": [
        "history = model.fit_generator(\n",
        "      train_generator,\n",
        "      steps_per_epoch=840,\n",
        "      epochs=15,\n",
        "      \n",
        "      validation_data=validation_generator,\n",
        "      validation_steps=20)\n",
        "model.save('/content/gdrive/My Drive/occt.h5')\n"
      ],
      "execution_count": 0,
      "outputs": [
        {
          "output_type": "stream",
          "text": [
            "WARNING:tensorflow:From /usr/local/lib/python3.6/dist-packages/tensorflow/python/ops/math_ops.py:3066: to_int32 (from tensorflow.python.ops.math_ops) is deprecated and will be removed in a future version.\n",
            "Instructions for updating:\n",
            "Use tf.cast instead.\n",
            "Epoch 1/15\n",
            "840/840 [==============================] - 607s 722ms/step - loss: 0.4966 - acc: 0.8056 - val_loss: 0.2025 - val_acc: 0.9236\n",
            "Epoch 2/15\n",
            "840/840 [==============================] - 552s 657ms/step - loss: 0.2927 - acc: 0.8966 - val_loss: 0.1172 - val_acc: 0.9607\n",
            "Epoch 3/15\n",
            "840/840 [==============================] - 533s 635ms/step - loss: 0.2475 - acc: 0.9128 - val_loss: 0.2322 - val_acc: 0.8936\n",
            "Epoch 4/15\n",
            "840/840 [==============================] - 512s 610ms/step - loss: 0.2209 - acc: 0.9217 - val_loss: 0.0942 - val_acc: 0.9762\n",
            "Epoch 5/15\n",
            "840/840 [==============================] - 502s 598ms/step - loss: 0.2013 - acc: 0.9279 - val_loss: 0.1022 - val_acc: 0.9597\n",
            "Epoch 6/15\n",
            "840/840 [==============================] - 487s 580ms/step - loss: 0.1824 - acc: 0.9348 - val_loss: 0.1113 - val_acc: 0.9659\n",
            "Epoch 7/15\n",
            "840/840 [==============================] - 486s 579ms/step - loss: 0.1681 - acc: 0.9402 - val_loss: 0.0883 - val_acc: 0.9762\n",
            "Epoch 8/15\n",
            "840/840 [==============================] - 488s 580ms/step - loss: 0.1588 - acc: 0.9426 - val_loss: 0.0941 - val_acc: 0.9721\n",
            "Epoch 9/15\n",
            "840/840 [==============================] - 487s 579ms/step - loss: 0.1467 - acc: 0.9473 - val_loss: 0.1108 - val_acc: 0.9752\n",
            "Epoch 10/15\n",
            "840/840 [==============================] - 485s 577ms/step - loss: 0.1387 - acc: 0.9508 - val_loss: 0.1039 - val_acc: 0.9721\n",
            "Epoch 11/15\n",
            "840/840 [==============================] - 487s 580ms/step - loss: 0.1311 - acc: 0.9523 - val_loss: 0.0663 - val_acc: 0.9804\n",
            "Epoch 12/15\n",
            "840/840 [==============================] - 487s 579ms/step - loss: 0.1232 - acc: 0.9554 - val_loss: 0.2287 - val_acc: 0.9329\n",
            "Epoch 13/15\n",
            "840/840 [==============================] - 488s 581ms/step - loss: 0.1180 - acc: 0.9581 - val_loss: 0.0734 - val_acc: 0.9814\n",
            "Epoch 14/15\n",
            "840/840 [==============================] - 485s 578ms/step - loss: 0.1147 - acc: 0.9597 - val_loss: 0.1080 - val_acc: 0.9711\n",
            "Epoch 15/15\n",
            "840/840 [==============================] - 487s 579ms/step - loss: 0.1097 - acc: 0.9618 - val_loss: 0.0778 - val_acc: 0.9793\n"
          ],
          "name": "stdout"
        }
      ]
    },
    {
      "cell_type": "code",
      "metadata": {
        "id": "m1j9Pc8vETiP",
        "colab_type": "code",
        "colab": {}
      },
      "source": [
        "del model"
      ],
      "execution_count": 0,
      "outputs": []
    },
    {
      "cell_type": "code",
      "metadata": {
        "id": "LVFkJBarAYPv",
        "colab_type": "code",
        "outputId": "323f5c18-f271-4947-eea6-c6d04dbe02ea",
        "colab": {
          "base_uri": "https://localhost:8080/",
          "height": 85
        }
      },
      "source": [
        "from keras.models import load_model\n",
        "from keras.preprocessing import image\n",
        "import numpy as np\n",
        "\n",
        "# dimensions of our images\n",
        "img_width, img_height = 224, 224\n",
        "\n",
        "# load the model we saved\n",
        "model = load_model('/content/gdrive/My Drive/occt.h5')\n",
        "\n",
        "# predicting images\n",
        "img = image.load_img('/content/bjophthalmol-2014-July-98-Suppl 2-ii24-F1.large.jpg', target_size=(img_width, img_height))\n",
        "\n",
        "x = image.img_to_array(img)\n",
        "print(x.dtype)\n",
        "\n",
        "\n",
        "x=x/255\n",
        "x= x.reshape(1, 224, 224, 3)\n",
        "\n",
        "\n",
        "classes = model.predict(x)\n",
        "\n",
        "print (np.argmax(classes))\n",
        "print ((classes))"
      ],
      "execution_count": 0,
      "outputs": [
        {
          "output_type": "stream",
          "text": [
            "float32\n",
            "(1, 224, 224, 3)\n",
            "1\n",
            "[[0.         0.99999964 0.         0.        ]]\n"
          ],
          "name": "stdout"
        }
      ]
    }
  ]
}